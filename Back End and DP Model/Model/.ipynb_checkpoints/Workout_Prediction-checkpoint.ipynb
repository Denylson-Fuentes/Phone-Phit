{
 "cells": [
  {
   "cell_type": "code",
   "execution_count": 1,
   "id": "17315008-deae-4f4d-9f5e-78874bccbfd7",
   "metadata": {},
   "outputs": [],
   "source": [
    "# !pip install mediapipe"
   ]
  },
  {
   "cell_type": "code",
   "execution_count": 1,
   "id": "34b15784-b555-4368-890a-e879419711ae",
   "metadata": {},
   "outputs": [],
   "source": [
    "import cv2\n",
    "import numpy as np\n",
    "import mediapipe as mp\n",
    "import os"
   ]
  },
  {
   "cell_type": "code",
   "execution_count": 2,
   "id": "d8a77d66-3010-4898-a430-3d94592874c8",
   "metadata": {},
   "outputs": [],
   "source": [
    "mp_holistic = mp.solutions.holistic\n",
    "mp_drawing = mp.solutions.drawing_utils"
   ]
  },
  {
   "cell_type": "code",
   "execution_count": 3,
   "id": "f706f676-6394-4016-8a06-98716397be10",
   "metadata": {},
   "outputs": [],
   "source": [
    "def mediapipe_detection(image, model):\n",
    "    image = cv2.cvtColor(image, cv2.COLOR_BGR2RGB)\n",
    "    image.flags.writeable = False\n",
    "    results = model.process(image)\n",
    "    image.flags.writeable = True\n",
    "    image = cv2.cvtColor(image, cv2.COLOR_RGB2BGR)\n",
    "    return image, results"
   ]
  },
  {
   "cell_type": "code",
   "execution_count": 4,
   "id": "bc51e7fc-b526-46a8-b5f2-edb52bdd78b5",
   "metadata": {},
   "outputs": [],
   "source": [
    "def draw_landmarks(image, results):\n",
    "    # mp_drawing.draw_landmarks(image, results.face_landmarks, mp_holistic.FACEMESH_CONTOURS)\n",
    "    mp_drawing.draw_landmarks(image, results.pose_landmarks, mp_holistic.POSE_CONNECTIONS)\n",
    "    # mp_drawing.draw_landmarks(image, results.left_hand_landmarks, mp_holistic.HAND_CONNECTIONS)\n",
    "    # mp_drawing.draw_landmarks(image, results.right_hand_landmarks, mp_holistic.HAND_CONNECTIONS)"
   ]
  },
  {
   "cell_type": "code",
   "execution_count": 5,
   "id": "557b4388-3d71-46d2-a60c-30a0e7fc265f",
   "metadata": {},
   "outputs": [],
   "source": [
    "def extract_keypoints(results):\n",
    "    pose = np.array([[res.x, res.y, res.z, res.visibility] for res in results.pose_landmarks.landmark]).flatten() if results.pose_landmarks else np.zeros(33*4)\n",
    "    return pose"
   ]
  },
  {
   "cell_type": "code",
   "execution_count": 6,
   "id": "b83c2134-cb05-4b23-9209-6f4d54b5385c",
   "metadata": {
    "tags": []
   },
   "outputs": [],
   "source": [
    "cap = cv2.VideoCapture('./Core/Individual/1.mp4')\n",
    "\n",
    "sequences = []\n",
    "\n",
    "with mp_holistic.Holistic(min_detection_confidence = 0.5, min_tracking_confidence=0.5) as holistic:\n",
    "    while cap.isOpened():\n",
    "        ret, frame = cap.read()\n",
    "        if not ret:\n",
    "            break\n",
    "        \n",
    "        image, results = mediapipe_detection(frame, holistic)\n",
    "        \n",
    "        draw_landmarks(image, results)\n",
    "        \n",
    "        pose = extract_keypoints(results)\n",
    "        sequences.append(pose)\n",
    "        \n",
    "        cv2.imshow('Open CV Feed', image)\n",
    "        \n",
    "        if cv2.waitKey(10) & 0xFF == ord('q'):\n",
    "            break\n",
    "        \n",
    "    \n",
    "    cap.release()\n",
    "    cv2.destroyAllWindows()"
   ]
  },
  {
   "cell_type": "code",
   "execution_count": 7,
   "id": "81070012-b01a-4825-bd12-99a34b6d6064",
   "metadata": {},
   "outputs": [
    {
     "data": {
      "text/plain": [
       "96"
      ]
     },
     "execution_count": 7,
     "metadata": {},
     "output_type": "execute_result"
    }
   ],
   "source": [
    "len(sequences)"
   ]
  },
  {
   "cell_type": "markdown",
   "id": "23f90941-93ba-42f4-8233-5ab8ffbe24bb",
   "metadata": {},
   "source": [
    "## Body Activation ##"
   ]
  },
  {
   "cell_type": "code",
   "execution_count": 8,
   "id": "027079c6-c257-4a8b-88d4-dc415567f9ef",
   "metadata": {},
   "outputs": [],
   "source": [
    "body_activations = np.array(['Total Body', 'Lower Body', 'Upper Body', 'Core'])\n",
    "no_sequences = 100\n",
    "sequence_length = 120"
   ]
  },
  {
   "cell_type": "code",
   "execution_count": 9,
   "id": "cde9a1ae-c462-4dee-aa0a-ea8fe803e84d",
   "metadata": {
    "tags": []
   },
   "outputs": [],
   "source": [
    "for body in body_activations:\n",
    "    data_path = './'+body+'/Individual/'\n",
    "    for num in range(1,no_sequences+1):\n",
    "        try:\n",
    "            os.makedirs(os.path.join('./Numpy Data', body, str(num)))\n",
    "        except:\n",
    "            pass\n"
   ]
  },
  {
   "cell_type": "code",
   "execution_count": 10,
   "id": "7bbe9f19-9bb9-45d3-8308-8764f0212470",
   "metadata": {
    "tags": []
   },
   "outputs": [],
   "source": [
    "# ## Finish Setting up collections of data points and classification labels and AI\n",
    "\n",
    "# for body in body_activations:\n",
    "#     data_path = './'+body+'/Individual/'\n",
    "#     for num in range(1,no_sequences+1):\n",
    "#         print(data_path+str(num)+'.mp4')\n",
    "#         cap = cv2.VideoCapture(data_path+str(num)+'.mp4')\n",
    "#         i = 0\n",
    "\n",
    "\n",
    "#         with mp_holistic.Holistic(min_detection_confidence = 0.5, min_tracking_confidence=0.5) as holistic:\n",
    "#             while cap.isOpened():\n",
    "#                 ret, frame = cap.read()\n",
    "#                 if not ret:\n",
    "#                     break\n",
    "\n",
    "#                 image, results = mediapipe_detection(frame, holistic)\n",
    "\n",
    "#                 draw_landmarks(image, results)\n",
    "                \n",
    "#                 if num == 1:\n",
    "#                     cv2.putText(image, 'STARTING COLLECTION', (120,200), cv2.FONT_HERSHEY_PLAIN, 1, (0, 255, 0), 4, cv2.LINE_AA)\n",
    "#                     cv2.putText(image, 'Colecting frames for {}, Video Number {}'.format(body, num), (15, 12), cv2.FONT_HERSHEY_PLAIN, 1, (255, 0, 255), 1, cv2.LINE_AA)\n",
    "#                 else:\n",
    "#                     cv2.putText(image, 'Colecting frames for {}, Video Number {}'.format(body, num), (15, 12), cv2.FONT_HERSHEY_PLAIN, 1, (255, 0, 255), 1, cv2.LINE_AA)\n",
    "\n",
    "#                 cv2.imshow('Open CV Feed', image)\n",
    "                \n",
    "#                 pose = extract_keypoints(results)\n",
    "#                 npy_path = os.path.join('./Numpy Data', body, str(num), str(i))\n",
    "#                 np.save(npy_path, pose)\n",
    "#                 i += 1\n",
    "                \n",
    "\n",
    "#                 if cv2.waitKey(10) & 0xFF == ord('q'):\n",
    "#                     break\n",
    "\n",
    "\n",
    "#             cap.release()\n",
    "#             cv2.destroyAllWindows()"
   ]
  },
  {
   "cell_type": "markdown",
   "id": "6e70ca4f-35a6-4e29-98a6-494453528d32",
   "metadata": {
    "tags": []
   },
   "source": [
    "## Preprocess Data and Create Labels ##"
   ]
  },
  {
   "cell_type": "code",
   "execution_count": 11,
   "id": "126a98e0-a9c2-4b64-888f-4dde4ea521ad",
   "metadata": {},
   "outputs": [],
   "source": [
    "from sklearn.model_selection import train_test_split\n",
    "from tensorflow.keras.utils import to_categorical"
   ]
  },
  {
   "cell_type": "code",
   "execution_count": 12,
   "id": "5d9b5c6a-a6a0-4a2a-8fde-aa2506fedc71",
   "metadata": {},
   "outputs": [],
   "source": [
    "label_map = {label:num for num, label in enumerate(body_activations)}"
   ]
  },
  {
   "cell_type": "code",
   "execution_count": 13,
   "id": "1abe8578-baca-44c4-8b48-b3ca48eccc2d",
   "metadata": {},
   "outputs": [
    {
     "data": {
      "text/plain": [
       "{'Total Body': 0, 'Lower Body': 1, 'Upper Body': 2, 'Core': 3}"
      ]
     },
     "execution_count": 13,
     "metadata": {},
     "output_type": "execute_result"
    }
   ],
   "source": [
    "label_map"
   ]
  },
  {
   "cell_type": "code",
   "execution_count": 14,
   "id": "8cf765fe-d0b9-4fbc-a734-e9caebb6fbe1",
   "metadata": {
    "tags": []
   },
   "outputs": [
    {
     "name": "stdout",
     "output_type": "stream",
     "text": [
      "Appending Total Body\n",
      "Appending Lower Body\n",
      "Appending Upper Body\n",
      "Appending Core\n"
     ]
    }
   ],
   "source": [
    "sequences, labels = [], []\n",
    "for body in body_activations:\n",
    "    print('Appending {}'.format(body))\n",
    "    for sequence in range(1, no_sequences+1):\n",
    "        window =[]\n",
    "        for frame_num in range(sequence_length):\n",
    "            res = np.load(os.path.join('./Numpy Data', body, str(sequence), '{}.npy'.format(frame_num)))\n",
    "            window.append(res)\n",
    "        sequences.append(window)\n",
    "        labels.append(label_map[body])"
   ]
  },
  {
   "cell_type": "code",
   "execution_count": 15,
   "id": "6fc9643c-739b-46e2-a59a-c96d6fb06396",
   "metadata": {
    "tags": []
   },
   "outputs": [
    {
     "data": {
      "text/plain": [
       "((400, 120, 132), (400,))"
      ]
     },
     "execution_count": 15,
     "metadata": {},
     "output_type": "execute_result"
    }
   ],
   "source": [
    "np.array(sequences).shape, np.array(labels).shape"
   ]
  },
  {
   "cell_type": "code",
   "execution_count": 16,
   "id": "dcc02828-3a84-4fc7-a5c0-7fffec632781",
   "metadata": {},
   "outputs": [],
   "source": [
    "X = np.array(sequences)\n",
    "y = to_categorical(labels).astype(int)"
   ]
  },
  {
   "cell_type": "code",
   "execution_count": 17,
   "id": "caa40c07-af25-4d87-bef6-7c40d91a66e0",
   "metadata": {},
   "outputs": [
    {
     "data": {
      "text/plain": [
       "(numpy.ndarray, numpy.ndarray)"
      ]
     },
     "execution_count": 17,
     "metadata": {},
     "output_type": "execute_result"
    }
   ],
   "source": [
    "type(X), type(y)"
   ]
  },
  {
   "cell_type": "code",
   "execution_count": 18,
   "id": "fddad508-3345-47af-81f1-e91a926d88a5",
   "metadata": {},
   "outputs": [],
   "source": [
    "X_train, X_test, y_train, y_test = train_test_split(X, y.astype(int), test_size = 0.1, shuffle = True)"
   ]
  },
  {
   "cell_type": "code",
   "execution_count": 19,
   "id": "49310eb6-512b-4719-95fa-5bf3a58311d6",
   "metadata": {},
   "outputs": [
    {
     "data": {
      "text/plain": [
       "((360, 120, 132), (40, 120, 132), (360, 4), (40, 4))"
      ]
     },
     "execution_count": 19,
     "metadata": {},
     "output_type": "execute_result"
    }
   ],
   "source": [
    "X_train.shape, X_test.shape, y_train.shape, y_test.shape"
   ]
  },
  {
   "cell_type": "code",
   "execution_count": 20,
   "id": "5287833b-3a9d-4c77-9629-931a53d830f1",
   "metadata": {},
   "outputs": [
    {
     "data": {
      "text/plain": [
       "numpy.ndarray"
      ]
     },
     "execution_count": 20,
     "metadata": {},
     "output_type": "execute_result"
    }
   ],
   "source": [
    "type(y_train)"
   ]
  },
  {
   "cell_type": "code",
   "execution_count": 21,
   "id": "c20baa76-2f06-4931-ad04-976215cb3c5d",
   "metadata": {},
   "outputs": [],
   "source": [
    "import tensorflow as tf\n",
    "from tensorflow.keras.models import Sequential\n",
    "from tensorflow.keras.layers import LSTM, Dense, GRU\n",
    "from tensorflow.keras.callbacks import TensorBoard\n",
    "from tensorflow.keras.losses import CategoricalCrossentropy\n",
    "from tensorflow.keras.optimizers import Adam"
   ]
  },
  {
   "cell_type": "code",
   "execution_count": 22,
   "id": "76333a36-6b60-4516-a053-6a4d4c2aa78b",
   "metadata": {},
   "outputs": [],
   "source": [
    "log_dir = os.path.join('Logs')\n",
    "tb_callbacks = TensorBoard(log_dir = log_dir)"
   ]
  },
  {
   "cell_type": "code",
   "execution_count": 23,
   "id": "c373f30b-de0e-4e5c-9478-057d215fa3ad",
   "metadata": {},
   "outputs": [],
   "source": [
    "model = Sequential()\n",
    "model.add(GRU(32, return_sequences = True, activation = 'relu', input_shape = (120, 132)))\n",
    "model.add(GRU(64, return_sequences = True, activation = 'relu'))\n",
    "model.add(GRU(128, return_sequences = False, activation = 'relu'))\n",
    "model.add(Dense(128, activation = 'relu'))\n",
    "model.add(Dense(64, activation = 'relu'))\n",
    "model.add(Dense(4, activation = 'softmax'))"
   ]
  },
  {
   "cell_type": "code",
   "execution_count": 24,
   "id": "dfe49022-1443-484e-b48c-de0cb216c39a",
   "metadata": {},
   "outputs": [
    {
     "name": "stdout",
     "output_type": "stream",
     "text": [
      "Model: \"sequential\"\n",
      "_________________________________________________________________\n",
      "Layer (type)                 Output Shape              Param #   \n",
      "=================================================================\n",
      "gru (GRU)                    (None, 120, 32)           15936     \n",
      "_________________________________________________________________\n",
      "gru_1 (GRU)                  (None, 120, 64)           18816     \n",
      "_________________________________________________________________\n",
      "gru_2 (GRU)                  (None, 128)               74496     \n",
      "_________________________________________________________________\n",
      "dense (Dense)                (None, 128)               16512     \n",
      "_________________________________________________________________\n",
      "dense_1 (Dense)              (None, 64)                8256      \n",
      "_________________________________________________________________\n",
      "dense_2 (Dense)              (None, 4)                 260       \n",
      "=================================================================\n",
      "Total params: 134,276\n",
      "Trainable params: 134,276\n",
      "Non-trainable params: 0\n",
      "_________________________________________________________________\n"
     ]
    }
   ],
   "source": [
    "model.summary()"
   ]
  },
  {
   "cell_type": "code",
   "execution_count": 25,
   "id": "fec6f25a-8540-4753-96df-737380a06af7",
   "metadata": {},
   "outputs": [],
   "source": [
    "model.compile(optimizer = Adam(learning_rate=1e-5), loss = tf.keras.losses.CategoricalCrossentropy(), metrics = ['categorical_accuracy'])"
   ]
  },
  {
   "cell_type": "code",
   "execution_count": 33,
   "id": "8606c40a-94f7-49c3-88bd-91e2eea0a87f",
   "metadata": {
    "tags": []
   },
   "outputs": [],
   "source": [
    "# model.fit(X_train, y_train, batch_size = 64, epochs = 1000)"
   ]
  },
  {
   "cell_type": "code",
   "execution_count": 34,
   "id": "51427b04-52cc-46b3-967a-15a5b9acd9eb",
   "metadata": {},
   "outputs": [
    {
     "name": "stdout",
     "output_type": "stream",
     "text": [
      "2/2 [==============================] - 0s 5ms/step - loss: 0.0487 - categorical_accuracy: 1.0000\n"
     ]
    },
    {
     "data": {
      "text/plain": [
       "[0.0486975833773613, 1.0]"
      ]
     },
     "execution_count": 34,
     "metadata": {},
     "output_type": "execute_result"
    }
   ],
   "source": [
    "model.evaluate(X_test, y_test)"
   ]
  },
  {
   "cell_type": "code",
   "execution_count": 35,
   "id": "790622ff-4cf2-4032-bf5b-ce44f23117d1",
   "metadata": {},
   "outputs": [],
   "source": [
    "res = model.predict(X_test)"
   ]
  },
  {
   "cell_type": "code",
   "execution_count": 38,
   "id": "37beb31c-4796-48b9-8be0-42a38da5bd33",
   "metadata": {},
   "outputs": [
    {
     "data": {
      "text/plain": [
       "'Core'"
      ]
     },
     "execution_count": 38,
     "metadata": {},
     "output_type": "execute_result"
    }
   ],
   "source": [
    "body_activations[np.argmax(res[1])]"
   ]
  },
  {
   "cell_type": "code",
   "execution_count": 39,
   "id": "22550df6-56c8-4dec-95a8-bd85640cd14e",
   "metadata": {},
   "outputs": [
    {
     "data": {
      "text/plain": [
       "'Core'"
      ]
     },
     "execution_count": 39,
     "metadata": {},
     "output_type": "execute_result"
    }
   ],
   "source": [
    "body_activations[np.argmax(y_test[1])]"
   ]
  },
  {
   "cell_type": "code",
   "execution_count": 28,
   "id": "47878137-d5e2-4259-9579-bedf5ae6f468",
   "metadata": {},
   "outputs": [],
   "source": [
    "# model.save('actions.h5')\n",
    "model.load_weights('actions.h5')"
   ]
  },
  {
   "cell_type": "markdown",
   "id": "a64930bf-79cd-4faf-b32a-014f5df2edab",
   "metadata": {},
   "source": [
    "## Confusion matrix and Accuracy ##"
   ]
  },
  {
   "cell_type": "code",
   "execution_count": 29,
   "id": "05caddfd-5d39-4bdc-946e-5622333b2e35",
   "metadata": {},
   "outputs": [],
   "source": [
    "from sklearn.metrics import multilabel_confusion_matrix, accuracy_score\n",
    "import matplotlib.pyplot as plt\n",
    "import seaborn as sns"
   ]
  },
  {
   "cell_type": "code",
   "execution_count": 30,
   "id": "46d7020d-99d9-44fe-9458-4744e7e935ff",
   "metadata": {},
   "outputs": [],
   "source": [
    "y_hat = model.predict(X_test)\n",
    "y_true = np.argmax(y_test, axis = 1).tolist()\n",
    "y_hat = np.argmax(y_hat, axis = 1).tolist()"
   ]
  },
  {
   "cell_type": "code",
   "execution_count": 32,
   "id": "47c62607-64af-4f1b-8911-be3083e04ee3",
   "metadata": {
    "collapsed": true,
    "jupyter": {
     "outputs_hidden": true
    },
    "tags": []
   },
   "outputs": [
    {
     "data": {
      "image/png": "[encoded data removed]",
      "text/plain": [
       "<Figure size 648x648 with 2 Axes>"
      ]
     },
     "metadata": {
      "needs_background": "light"
     },
     "output_type": "display_data"
    },
    {
     "data": {
      "image/png": "[encoded data removed]",
      "text/plain": [
       "<Figure size 648x648 with 2 Axes>"
      ]
     },
     "metadata": {
      "needs_background": "light"
     },
     "output_type": "display_data"
    },
    {
     "data": {
      "image/png": "[encoded data removed]",
      "text/plain": [
       "<Figure size 648x648 with 2 Axes>"
      ]
     },
     "metadata": {
      "needs_background": "light"
     },
     "output_type": "display_data"
    },
    {
     "data": {
      "image/png": "[encoded data removed]",
      "text/plain": [
       "<Figure size 648x648 with 2 Axes>"
      ]
     },
     "metadata": {
      "needs_background": "light"
     },
     "output_type": "display_data"
    }
   ],
   "source": [
    "cm = multilabel_confusion_matrix(y_true, y_hat)\n",
    "\n",
    "\n",
    "for matrix in cm:\n",
    "    plt.figure(figsize = (9,9))\n",
    "    sns.heatmap(matrix, annot = True, fmt = \".3f\", linewidths=.5, square = False)\n",
    "    plt.ylabel(\"Actual Label\")\n",
    "    plt.xlabel(\"Predicted label\")"
   ]
  },
  {
   "cell_type": "code",
   "execution_count": null,
   "id": "21690cae-6ecf-42de-883f-73f0def3c84a",
   "metadata": {},
   "outputs": [],
   "source": [
    "len(cm)"
   ]
  },
  {
   "cell_type": "code",
   "execution_count": null,
   "id": "c85fd8fb-c2f6-474b-b531-686e22d1b2c0",
   "metadata": {},
   "outputs": [],
   "source": []
  }
 ],
 "metadata": {
  "kernelspec": {
   "display_name": "Python 3 (ipykernel)",
   "language": "python",
   "name": "python3"
  },
  "language_info": {
   "codemirror_mode": {
    "name": "ipython",
    "version": 3
   },
   "file_extension": ".py",
   "mimetype": "text/x-python",
   "name": "python",
   "nbconvert_exporter": "python",
   "pygments_lexer": "ipython3",
   "version": "3.8.12"
  }
 },
 "nbformat": 4,
 "nbformat_minor": 5
}
